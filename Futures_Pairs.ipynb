{
 "cells": [
  {
   "cell_type": "code",
   "execution_count": 68,
   "metadata": {
    "collapsed": true
   },
   "outputs": [
    {
     "name": "stdout",
     "output_type": "stream",
     "text": [
      "The autoreload extension is already loaded. To reload it, use:\n",
      "  %reload_ext autoreload\n"
     ]
    }
   ],
   "source": [
    "import warnings\n",
    "import pandas as pd\n",
    "import numpy as np\n",
    "import matplotlib.pyplot as plt\n",
    "from itertools import combinations\n",
    "\n",
    "%load_ext autoreload\n",
    "%autoreload 2\n",
    "%matplotlib inline\n",
    "\n",
    "warnings.filterwarnings('ignore')\n",
    "\n",
    "# Load data\n",
    "ust_futures = pd.read_csv('raw_futures_prices.csv', index_col=0, parse_dates=[0]).dropna(how='any', axis=0)\n",
    "\n",
    "# Potential pairs.\n",
    "pairs = list(combinations(ust_futures.columns, 2))\n",
    "\n",
    "# Define spreads\n",
    "# TODO LATER: Pull spreads from Chi-Wai's email."
   ]
  },
  {
   "cell_type": "code",
   "execution_count": 79,
   "outputs": [],
   "source": [
    "from collections import defaultdict\n",
    "from more_itertools import windowed\n",
    "\n",
    "import v2.copulas.fitting as fitting\n",
    "import v2.backtest.hedging as hedging\n",
    "import v2.backtest.signal_ as signal_\n",
    "\n",
    "# PnL analysis for each pair.\n",
    "yearly_copulas = {}\n",
    "\n",
    "# Make a list of years.\n",
    "years = ['2018', '2019', '2020', '2021', '2022']\n",
    "years_windowed = list(windowed(years, 3))\n",
    "\n",
    "for train_start, train_end, test_end in years_windowed:\n",
    "    # Fit the copulas -- index by trading year for the\n",
    "    # dictionary.\n",
    "    yearly_signal_obj = signal_.SignalGeneration(ust_futures, pairs, train_start, train_end, test_end, test_end,copula_type='mixed')\n",
    "    yearly_copulas[test_end] = yearly_signal_obj"
   ],
   "metadata": {
    "collapsed": false
   }
  },
  {
   "cell_type": "code",
   "execution_count": 80,
   "outputs": [],
   "source": [
    "import backtest.backtester as backtest\n",
    "\n",
    "prep_backtest = {}\n",
    "\n",
    "for year, signal_obj in yearly_copulas.items():\n",
    "    prices = signal_obj.prices\n",
    "    sigs = signal_obj.calc_signals()\n",
    "    prices = prices.loc[year]\n",
    "    for col in sigs.columns:\n",
    "        prices[col] = signal_obj.generate_signals(sigs[col]).values\n",
    "\n",
    "    #prices[sigs.columns] = sigs.values\n",
    "    prep_backtest[year]= prices.copy()"
   ],
   "metadata": {
    "collapsed": false
   }
  },
  {
   "cell_type": "code",
   "execution_count": 89,
   "outputs": [
    {
     "name": "stdout",
     "output_type": "stream",
     "text": [
      "(TU, FV)     1.570110\n",
      "(TU, TY)     1.664886\n",
      "(TU, UXY)    1.681322\n",
      "(TU, US)     1.815963\n",
      "(TU, WN)     2.397748\n",
      "(FV, TY)     1.101572\n",
      "(FV, UXY)    1.439778\n",
      "(FV, US)     1.293597\n",
      "(FV, WN)     1.588300\n",
      "(TY, UXY)    1.243457\n",
      "(TY, US)     1.042754\n",
      "(TY, WN)     1.213678\n",
      "(UXY, US)    1.637854\n",
      "(UXY, WN)    0.882616\n",
      "(US, WN)     0.608913\n",
      "dtype: float64\n"
     ]
    }
   ],
   "source": [
    "# Run backtest\n",
    "YEAR = '2022'\n",
    "\n",
    "agg_results = pd.DataFrame()\n",
    "\n",
    "for pair in pairs:\n",
    "    train_data = yearly_copulas[YEAR].prices[[pair[0], pair[1]]]\n",
    "    pair_data = prep_backtest[YEAR][[pair[0], pair[1], pair]]\n",
    "    pair_data = pair_data.rename({pair: 'Signal'}, axis=1)\n",
    "    pair_data['Betas'] = 1\n",
    "    res = backtest.backtest(pair_data)\n",
    "    agg_results[pair] = res['Total PnL']\n",
    "agg_results = (agg_results + 10_000).pct_change().dropna()\n",
    "print(agg_results.mean()*252**0.5/agg_results.std())\n",
    "#agg_results.plot()"
   ],
   "metadata": {
    "collapsed": false
   }
  }
 ],
 "metadata": {
  "kernelspec": {
   "display_name": "Python 3",
   "language": "python",
   "name": "python3"
  },
  "language_info": {
   "codemirror_mode": {
    "name": "ipython",
    "version": 2
   },
   "file_extension": ".py",
   "mimetype": "text/x-python",
   "name": "python",
   "nbconvert_exporter": "python",
   "pygments_lexer": "ipython2",
   "version": "2.7.6"
  }
 },
 "nbformat": 4,
 "nbformat_minor": 0
}
