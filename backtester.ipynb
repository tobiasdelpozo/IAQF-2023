{
 "cells": [
  {
   "attachments": {},
   "cell_type": "markdown",
   "metadata": {},
   "source": [
    "# IAQF Backtester\n",
    "\n",
    "Input is n x 3 DataFrame where column 1 is the long ETF and column 2 is the short ETF. Column 3 is the signal (1 corresponds to buy and -1 corresponds to sell, there is no reversing)"
   ]
  },
  {
   "cell_type": "code",
   "execution_count": 1,
   "metadata": {},
   "outputs": [],
   "source": [
    "import pandas as pd \n",
    "import numpy as np"
   ]
  },
  {
   "cell_type": "code",
   "execution_count": 119,
   "metadata": {},
   "outputs": [
    {
     "data": {
      "text/html": [
       "<div>\n",
       "<style scoped>\n",
       "    .dataframe tbody tr th:only-of-type {\n",
       "        vertical-align: middle;\n",
       "    }\n",
       "\n",
       "    .dataframe tbody tr th {\n",
       "        vertical-align: top;\n",
       "    }\n",
       "\n",
       "    .dataframe thead th {\n",
       "        text-align: right;\n",
       "    }\n",
       "</style>\n",
       "<table border=\"1\" class=\"dataframe\">\n",
       "  <thead>\n",
       "    <tr style=\"text-align: right;\">\n",
       "      <th></th>\n",
       "      <th>Stock 1</th>\n",
       "      <th>Stock 2</th>\n",
       "      <th>Signal</th>\n",
       "    </tr>\n",
       "    <tr>\n",
       "      <th>Date</th>\n",
       "      <th></th>\n",
       "      <th></th>\n",
       "      <th></th>\n",
       "    </tr>\n",
       "  </thead>\n",
       "  <tbody>\n",
       "    <tr>\n",
       "      <th>2023-02-25</th>\n",
       "      <td>50.0</td>\n",
       "      <td>70.0</td>\n",
       "      <td>1.0</td>\n",
       "    </tr>\n",
       "    <tr>\n",
       "      <th>2023-02-26</th>\n",
       "      <td>55.0</td>\n",
       "      <td>65.0</td>\n",
       "      <td>-1.0</td>\n",
       "    </tr>\n",
       "  </tbody>\n",
       "</table>\n",
       "</div>"
      ],
      "text/plain": [
       "            Stock 1  Stock 2  Signal\n",
       "Date                                \n",
       "2023-02-25     50.0     70.0     1.0\n",
       "2023-02-26     55.0     65.0    -1.0"
      ]
     },
     "execution_count": 119,
     "metadata": {},
     "output_type": "execute_result"
    }
   ],
   "source": [
    "filename ='sample_data.csv'\n",
    "sample_data = pd.read_csv(filename)\n",
    "sample_data['Date'] = pd.to_datetime(sample_data['Date'])\n",
    "sample_data = sample_data.set_index('Date')\n",
    "sample_data = sample_data.dropna()\n",
    "\n",
    "sample_data.head()"
   ]
  },
  {
   "attachments": {},
   "cell_type": "markdown",
   "metadata": {},
   "source": [
    "- Need way to calculate position size "
   ]
  },
  {
   "cell_type": "code",
   "execution_count": 126,
   "metadata": {},
   "outputs": [],
   "source": [
    "def backtest(sample_data):\n",
    "    data = sample_data.copy()\n",
    "    cur_pos = (0,0) \n",
    "    init_val, prev_val = 0, 0 \n",
    "    closed = False \n",
    "    for i in data.index:\n",
    "        cur_prices = [data.loc[i,'Stock 1'], data.loc[i,'Stock 2']]\n",
    "        if data.loc[i,'Signal'] == 1:\n",
    "            if cur_pos[0] == 0 and cur_pos[1] == 0: \n",
    "                init_val = np.dot(cur_pos,cur_prices)\n",
    "                new_pos = True \n",
    "            elif cur_pos[0] < 0 and cur_pos[1] > 0:\n",
    "                closed = True \n",
    "        elif data.loc[i,'Signal'] == -1:\n",
    "            if cur_pos[0] == 0 and cur_pos[1] == 0:\n",
    "                cur_pos = (-1,1)\n",
    "                init_val = np.dot(cur_pos,cur_prices)\n",
    "                new_pos = True \n",
    "            elif cur_pos[0] > 0 and cur_pos[1] < 0:\n",
    "                closed = True\n",
    "\n",
    "        if new_pos == True:\n",
    "            prev_val = init_val\n",
    "            new_pos = False \n",
    "\n",
    "        data.loc[i,'Daily PnL'] = np.dot(cur_pos,cur_prices) - prev_val\n",
    "        prev_val = np.dot(cur_pos,cur_prices)\n",
    "\n",
    "        if closed == True:\n",
    "            cur_pos = (0,0)\n",
    "            init_val, prev_val = 0, 0\n",
    "            closed = False \n",
    "\n",
    "        data.loc[i,'Pos 1'] = cur_pos[0]\n",
    "        data.loc[i,'Pos 2'] = cur_pos[1]\n",
    "        data.loc[i,'Position Value'] = np.dot(cur_pos,cur_prices)\n",
    "\n",
    "    data['Total PnL'] = data['Daily PnL'].cumsum()\n",
    "    return data "
   ]
  },
  {
   "cell_type": "code",
   "execution_count": 127,
   "metadata": {},
   "outputs": [
    {
     "data": {
      "text/html": [
       "<div>\n",
       "<style scoped>\n",
       "    .dataframe tbody tr th:only-of-type {\n",
       "        vertical-align: middle;\n",
       "    }\n",
       "\n",
       "    .dataframe tbody tr th {\n",
       "        vertical-align: top;\n",
       "    }\n",
       "\n",
       "    .dataframe thead th {\n",
       "        text-align: right;\n",
       "    }\n",
       "</style>\n",
       "<table border=\"1\" class=\"dataframe\">\n",
       "  <thead>\n",
       "    <tr style=\"text-align: right;\">\n",
       "      <th></th>\n",
       "      <th>Stock 1</th>\n",
       "      <th>Stock 2</th>\n",
       "      <th>Signal</th>\n",
       "      <th>Daily PnL</th>\n",
       "      <th>Pos 1</th>\n",
       "      <th>Pos 2</th>\n",
       "      <th>Position Value</th>\n",
       "      <th>Total PnL</th>\n",
       "    </tr>\n",
       "    <tr>\n",
       "      <th>Date</th>\n",
       "      <th></th>\n",
       "      <th></th>\n",
       "      <th></th>\n",
       "      <th></th>\n",
       "      <th></th>\n",
       "      <th></th>\n",
       "      <th></th>\n",
       "      <th></th>\n",
       "    </tr>\n",
       "  </thead>\n",
       "  <tbody>\n",
       "    <tr>\n",
       "      <th>2023-02-25</th>\n",
       "      <td>50.0</td>\n",
       "      <td>70.0</td>\n",
       "      <td>1.0</td>\n",
       "      <td>0.0</td>\n",
       "      <td>1.0</td>\n",
       "      <td>-1.0</td>\n",
       "      <td>-20.0</td>\n",
       "      <td>0.0</td>\n",
       "    </tr>\n",
       "    <tr>\n",
       "      <th>2023-02-26</th>\n",
       "      <td>55.0</td>\n",
       "      <td>65.0</td>\n",
       "      <td>-1.0</td>\n",
       "      <td>10.0</td>\n",
       "      <td>0.0</td>\n",
       "      <td>0.0</td>\n",
       "      <td>0.0</td>\n",
       "      <td>10.0</td>\n",
       "    </tr>\n",
       "  </tbody>\n",
       "</table>\n",
       "</div>"
      ],
      "text/plain": [
       "            Stock 1  Stock 2  Signal  Daily PnL  Pos 1  Pos 2  Position Value  \\\n",
       "Date                                                                            \n",
       "2023-02-25     50.0     70.0     1.0        0.0    1.0   -1.0           -20.0   \n",
       "2023-02-26     55.0     65.0    -1.0       10.0    0.0    0.0             0.0   \n",
       "\n",
       "            Total PnL  \n",
       "Date                   \n",
       "2023-02-25        0.0  \n",
       "2023-02-26       10.0  "
      ]
     },
     "execution_count": 127,
     "metadata": {},
     "output_type": "execute_result"
    }
   ],
   "source": [
    "backtest(sample_data)"
   ]
  },
  {
   "cell_type": "code",
   "execution_count": null,
   "metadata": {},
   "outputs": [],
   "source": []
  }
 ],
 "metadata": {
  "kernelspec": {
   "display_name": "quant-trading-strats",
   "language": "python",
   "name": "python3"
  },
  "language_info": {
   "codemirror_mode": {
    "name": "ipython",
    "version": 3
   },
   "file_extension": ".py",
   "mimetype": "text/x-python",
   "name": "python",
   "nbconvert_exporter": "python",
   "pygments_lexer": "ipython3",
   "version": "3.10.8"
  },
  "orig_nbformat": 4,
  "vscode": {
   "interpreter": {
    "hash": "dec0134e5599f3232dbf7d5aed3afa2103e6e021cc09c953a3e3decdf62c7692"
   }
  }
 },
 "nbformat": 4,
 "nbformat_minor": 2
}
